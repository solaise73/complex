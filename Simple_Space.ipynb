{
  "nbformat": 4,
  "nbformat_minor": 0,
  "metadata": {
    "kernelspec": {
      "display_name": "Python 3",
      "language": "python",
      "name": "python3"
    },
    "language_info": {
      "codemirror_mode": {
        "name": "ipython",
        "version": 3
      },
      "file_extension": ".py",
      "mimetype": "text/x-python",
      "name": "python",
      "nbconvert_exporter": "python",
      "pygments_lexer": "ipython3",
      "version": "3.7.6"
    },
    "colab": {
      "name": "Simple Space.ipynb",
      "provenance": [],
      "collapsed_sections": []
    },
    "widgets": {
      "application/vnd.jupyter.widget-state+json": {
        "0f594398883146eab49e656acae1ff17": {
          "model_module": "@jupyter-widgets/controls",
          "model_name": "VBoxModel",
          "state": {
            "_view_name": "VBoxView",
            "_dom_classes": [],
            "_model_name": "VBoxModel",
            "_view_module": "@jupyter-widgets/controls",
            "_model_module_version": "1.5.0",
            "_view_count": null,
            "_view_module_version": "1.5.0",
            "box_style": "",
            "layout": "IPY_MODEL_c1df678af3d144599582ce8e5cdcd0cf",
            "_model_module": "@jupyter-widgets/controls",
            "children": [
              "IPY_MODEL_b3d27d4dd2a047b8bb70b172340dad02"
            ]
          }
        },
        "c1df678af3d144599582ce8e5cdcd0cf": {
          "model_module": "@jupyter-widgets/base",
          "model_name": "LayoutModel",
          "state": {
            "_view_name": "LayoutView",
            "grid_template_rows": null,
            "right": null,
            "justify_content": null,
            "_view_module": "@jupyter-widgets/base",
            "overflow": null,
            "_model_module_version": "1.2.0",
            "_view_count": null,
            "flex_flow": null,
            "width": null,
            "min_width": null,
            "border": null,
            "align_items": null,
            "bottom": null,
            "_model_module": "@jupyter-widgets/base",
            "top": null,
            "grid_column": null,
            "overflow_y": null,
            "overflow_x": null,
            "grid_auto_flow": null,
            "grid_area": null,
            "grid_template_columns": null,
            "flex": null,
            "_model_name": "LayoutModel",
            "justify_items": null,
            "grid_row": null,
            "max_height": null,
            "align_content": null,
            "visibility": null,
            "align_self": null,
            "height": null,
            "min_height": null,
            "padding": null,
            "grid_auto_rows": null,
            "grid_gap": null,
            "max_width": null,
            "order": null,
            "_view_module_version": "1.2.0",
            "grid_template_areas": null,
            "object_position": null,
            "object_fit": null,
            "grid_auto_columns": null,
            "margin": null,
            "display": null,
            "left": null
          }
        },
        "b3d27d4dd2a047b8bb70b172340dad02": {
          "model_module": "ipyvolume",
          "model_name": "FigureModel",
          "state": {
            "_view_name": "FigureView",
            "xlim": [
              -2400,
              100
            ],
            "show": "Volume",
            "camera_control": "trackball",
            "_view_module": "ipyvolume",
            "ambient_coefficient": 0.5,
            "_view_count": null,
            "style": {
              "box": {
                "visible": true
              },
              "axes": {
                "color": "black",
                "visible": true,
                "ticklabel": {
                  "color": "black"
                },
                "label": {
                  "color": "black"
                }
              },
              "background-color": "white"
            },
            "meshes": [],
            "matrix_world": [
              0,
              0,
              0,
              0,
              0,
              0,
              0,
              0,
              0,
              0,
              0,
              0,
              0,
              0,
              0,
              0
            ],
            "_model_module": "ipyvolume",
            "ylim": [
              -1190,
              1190
            ],
            "animation_exponent": 1,
            "layout": "IPY_MODEL_be2987eeccc34d34be6af7d35038b48f",
            "camera_fov": 45,
            "specular_exponent": 5,
            "render_continuous": false,
            "panorama_mode": "no",
            "width": 400,
            "camera": "IPY_MODEL_0321643dd3e048f4af54087d8fd049da",
            "diffuse_coefficient": 0.8,
            "zlabel": "z",
            "capture_fps": null,
            "downscale": 1,
            "_dom_classes": [],
            "_model_name": "FigureModel",
            "selection_mode": "replace",
            "ylabel": "y",
            "matrix_projection": [
              0,
              0,
              0,
              0,
              0,
              0,
              0,
              0,
              0,
              0,
              0,
              0,
              0,
              0,
              0,
              0
            ],
            "stereo": false,
            "_model_module_version": "~0.5.2",
            "specular_coefficient": 0.5,
            "height": 500,
            "animation": 1000,
            "eye_separation": 6.4,
            "selector": "lasso",
            "scene": "IPY_MODEL_7e62d41ed5524432b8c2ee01dba93833",
            "zlim": [
              -2400,
              100
            ],
            "camera_center": [
              0,
              0,
              0
            ],
            "scatters": [
              "IPY_MODEL_7dba03953ff34f8f9da2567ab62e7070"
            ],
            "_view_module_version": "~0.5.2",
            "xlabel": "x",
            "volumes": [],
            "displayscale": 1,
            "cube_resolution": 512,
            "mouse_mode": "normal"
          }
        }
      }
    }
  },
  "cells": [
    {
      "cell_type": "markdown",
      "metadata": {
        "id": "Gl5Fk7GpBsOJ",
        "colab_type": "text"
      },
      "source": [
        "# An investigation of complex vectors in 3 dimensions"
      ]
    },
    {
      "cell_type": "markdown",
      "metadata": {
        "id": "jdyyDCfeBsOK",
        "colab_type": "text"
      },
      "source": [
        "## Introduction\n",
        "The cartesian plane and space are useful and well understood. It usefully represents the world around us in both 2 and 3 dimensions and allows us to navigate the real world in a logical way.\n",
        "\n",
        "![Cartesian coordinates](https://precalculusstudyguide2014.weebly.com/uploads/2/7/4/3/27435559/479445084.png?196)\n",
        "\n",
        "The complex plane is interesting and contains fractals which seem to reflect some aspects of the natural world in some way, but remains disconnected from our day to day interactions with the space around us.\n",
        "\n",
        "Romanseco Broccoli | Sunflower\n",
        "------------ | -------------\n",
        "![Romanseco Broccoli](https://qph.fs.quoracdn.net/main-qimg-a695d3c854774d8b29f88e8ae9b59968.webp) | ![Sunflowers](https://i.pinimg.com/564x/fe/02/e2/fe02e2ab88fc86819850777f5167b9cb.jpg)\n",
        "\n",
        "\n",
        "\n",
        "The complex plane and cartesian space do not seem to be connected and are usually treated as different things with different rules that apply in each. (eg vector multiplication in [real plane](https://www.mathsisfun.com/algebra/vectors-cross-product.html) versus [complex plane](https://www.mathsisfun.com/algebra/complex-number-multiply.html)\n",
        "\n",
        "This is an attempt to rationalise a way of viewing space, the axes we use and the connections between them to include a way of seeing both cartesian and complex planes as part of the same overall structure. A structure that also leaves open an unlimited number of other dimensions."
      ]
    },
    {
      "cell_type": "markdown",
      "metadata": {
        "id": "RDu94jhLBsOL",
        "colab_type": "text"
      },
      "source": [
        "## Describing Axes\n",
        "In general axes can be described as measuring units of some value in a linear direction. The simplest axis is a number line where the units are 1. I will call the units of an axis the denomination of an axis. This may seem trivial at the moment but becomes useful as not all axes will have a denomination of 1 as we go forward.\n"
      ]
    },
    {
      "cell_type": "markdown",
      "metadata": {
        "id": "fTVU0UtqBsOM",
        "colab_type": "text"
      },
      "source": [
        "## Cartesian space\n",
        "Looking at a first the cartesian representation of space, an axis is chosen to represent each of the three dimensions we naturally perceive. Each axis is perpendicular to the others and demoninated in units of 1, and given labels x, y and z.\n",
        "\n",
        "Any given point in space can be represented by choosing values of x, y and z.\n",
        "\n",
        "See [https://en.wikipedia.org/wiki/Cartesian_coordinate_system]"
      ]
    },
    {
      "cell_type": "markdown",
      "metadata": {
        "id": "6oIoz88gBsOM",
        "colab_type": "text"
      },
      "source": [
        "## Complex Plane\n",
        "The complex plane is similar to a cartesian plane in that it is described by two perpendicular axes except one of the axes is denominated in units of $\\sqrt{-1}$ (referred to as $i$, such that $i=\\sqrt{-1}$. The axis in the complex plane that is denominated in units of $i$ is called the imaginary axis (a silly name but can be kinda justified as no real number can lie on this axis)\n",
        "\n",
        "Any given point in the complex plane can be represented by choosing values of x and i.\n",
        "\n",
        "see [https://en.wikipedia.org/wiki/Complex_number]"
      ]
    },
    {
      "cell_type": "markdown",
      "metadata": {
        "id": "GUY33suxBsON",
        "colab_type": "text"
      },
      "source": [
        "## Problem : Distinct Cartesian and Complex Planes\n",
        "Since the axes in both cartesian and complex planes share all the same properties except for the fact that the imaginary axis is enumerated in units of $i$. This difference in enumeration is what maintains a distinction between real and complex planes.\n",
        "\n",
        "There is an overlap between the complex and cartesian planes in that both have at least one axis denominated in units of 1. But beyond this common denomination the complex and cartesian planes are treated as separate things.\n",
        "\n",
        "It seems that there are two units of denomination, all the cartesian axes use 1, and the complex plane mixes units of 1 and $i$."
      ]
    },
    {
      "cell_type": "markdown",
      "metadata": {
        "id": "IViusdgaBsOO",
        "colab_type": "text"
      },
      "source": [
        "## Solution : Changing the units\n",
        "Rather than considering that cartesian and complex planes are separate things and just one axis is enumerated differently, I suggest that all axes are enumerated in the same units of **not 1 but -1** raised to a power that reflects a place in a progression of axes such that the denomination of any axis $n$ is given by $-1^{2^n}$.\n",
        "\n",
        "Dimension $n$|$2^n$|Evaluate | Denomination | Units____________ | Common name\n",
        "----- |----- |----- | ---------- | ------| -----------\n",
        "3|$2^3$|8|$-1^8$|1|\n",
        "2|$2^2$|4|$-1^4$|1|z\n",
        "1|$2^1$|2|$-1^2$|1|y\n",
        "0|$2^0$|1|$-1^1$|1|x\n",
        "-1|$2^{-1}$|1/2|$-1^\\frac{1}{2}$|$\\sqrt{-1}$|$i$\n",
        "-2|$2^{-2}$|1/4|$-1^\\frac{1}{4}$|${\\pm\\frac{\\sqrt{2}}2 (1 + i)}$|\n",
        "\n",
        "This table shows a system for an arbitarily large sequence of axes representing n dimensions.\n",
        "\n",
        "By changing the unit for all axes to -1 instead of 1, we can see how the until now disjointed imaginary axis can take its place in a progression of axes whilst still maintaining the familiar cartesian coordinate system.\n",
        "\n",
        "We can consider that the cartesian space is the selection of 3 consecutive axes such as $n=0,1,2$ where $p={2,4,8}$. Cartesian space could be represented in fact by any 3 consecutive axes such that $n>=0$ but it seems reasonable to take the first sequence of 3.\n",
        "\n",
        "Similarly we can consider that a complex plane is the selection of 2 axes where $n=0,-1$ and $p=0,\\frac{1}{2}$.\n",
        "\n",
        "NB its also worth noting that axis $n=-2$ has two values at the same time (${\\pm\\frac{\\sqrt{2}}2 (1 + i)}$), which suggests some interesting similarities with things existing in two places at once, which in physics is the concept of Quantum Superposition. It also possible that the number of solutions to the units of the axis affects the angle between the axes. There is no reason to assume that it has to be 90&deg; between each axis, and as the number of roots increase per axis the angle between them decreases. More on this to follow....."
      ]
    },
    {
      "cell_type": "markdown",
      "metadata": {
        "id": "bncRY7cTBsOO",
        "colab_type": "text"
      },
      "source": [
        "## Complex Space\n",
        "By choosing a group of three axes that include the imaginary one, $n=-1,0,1$ a 3 dimensional space can be constructed that includes 2 complex planes."
      ]
    },
    {
      "cell_type": "code",
      "metadata": {
        "id": "QB1xm2zFBsOP",
        "colab_type": "code",
        "colab": {
          "base_uri": "https://localhost:8080/",
          "height": 248
        },
        "outputId": "a81d84b8-ae13-4299-f735-e744a8ab0f3a"
      },
      "source": [
        "import numpy as np\n",
        "import matplotlib.pyplot as plt\n",
        "import matplotlib.patches as mpatches\n",
        "from mpl_toolkits.mplot3d import Axes3D\n",
        "\n",
        "ax = plt.subplot(projection='3d')\n",
        "\n",
        "# plot the two complex planes\n",
        "yy, zz = np.meshgrid(range(2), range(2))\n",
        "xx = yy*0\n",
        "yzplane = ax.plot_surface(xx, yy, zz, label='complex plane', color='b', alpha=0.3)\n",
        "yzplane._facecolors2d=yzplane._facecolors3d\n",
        "yzplane._edgecolors2d=yzplane._edgecolors3d\n",
        "\n",
        "yy, xx = np.meshgrid(range(2), range(2))\n",
        "zz = yy*0\n",
        "xyplane = ax.plot_surface(xx, yy, zz, label='complex plane', color='r', alpha=0.3)\n",
        "xyplane._facecolors2d=xyplane._facecolors3d\n",
        "xyplane._edgecolors2d=xyplane._edgecolors3d\n",
        "\n",
        "qx = ax.quiver(0,0,0,1,0,0, arrow_length_ratio=0.1, color='r')\n",
        "qy = ax.quiver(0,0,0,0,1,0, arrow_length_ratio=0.1, color='g')\n",
        "qz = ax.quiver(0,0,0,0,0,1, arrow_length_ratio=0.1, color='b')\n",
        "\n",
        "ax.text(0.5,0,0,  'real', size=10, zorder=1, color='r') \n",
        "ax.text(0,0.5,0,  'imaginary', size=10, zorder=1, color='g') \n",
        "ax.text(0,0,0.5,  'real', size=10, zorder=1, color='b') \n",
        "\n",
        "# Make legend, set axes limits and labels\n",
        "xyplane.label='wtf'\n",
        "plt.legend()\n",
        "\n",
        "ax.set_xlim(0, 1)\n",
        "ax.set_ylim(0, 1)\n",
        "ax.set_zlim(0, 1)\n",
        "ax.set_xlabel('n=0')\n",
        "ax.set_ylabel('n=-1')\n",
        "ax.set_zlabel('n=1')\n",
        "\n",
        "plt.title('Two Complex Planes')\n",
        "plt.show()\n"
      ],
      "execution_count": null,
      "outputs": [
        {
          "output_type": "display_data",
          "data": {
            "image/png": "[encoded data removed]",
            "text/plain": [
              "<Figure size 432x288 with 1 Axes>"
            ]
          },
          "metadata": {
            "tags": [],
            "needs_background": "light"
          }
        }
      ]
    },
    {
      "cell_type": "markdown",
      "metadata": {
        "id": "2LvMBs-3Fcho",
        "colab_type": "text"
      },
      "source": [
        "## Familiar Complex Planes\n",
        "Each complex plane behaves as you would expect, and as such vectors can be expressed that exist on these planes. (Read about complex vectors, but tldr multilpication of complex vectors : double the angle and multiply the argument)\n",
        "\n",
        "If we consider the list of axes above, we can see that traditionally vectors or the coordinates of points are expressed in ascending axis order. That is the typical cartesian $(x,y,z)$ is listing the quantities per axis in ascending order, where x is the common name for $n=0$, y is the axis $n=1$ and z is the axis $n=2$.\n",
        "\n",
        "(It could be argued that complex numbers would be better expressed as $(ai + b)$ rather than more usual $(a + ib)$ to reflect this ordering of coordinates in \"lowest to highest\".)\n",
        "\n"
      ]
    },
    {
      "cell_type": "markdown",
      "metadata": {
        "id": "eHSjIi6aCbGw",
        "colab_type": "text"
      },
      "source": [
        "## 3D complex space\n",
        "\n",
        "Now that a 3D space has been constructed containg an imaginary axis with 2 complex planes, it should be possible to create a 3D vector expressed as quantities along with axes $(n_{-1}, n_0, n_1)$. \n",
        "\n",
        "The common name for $n_{-1}$ is $i$.\n",
        "\n",
        "The common name for $n_0$ is $x$\n",
        "\n",
        "The common name for $n_1$ is $y$\n",
        "\n",
        "So a vector in 3D complex space is expressed as $V=(i,x,y)$ respecting the convention of lowest axis to highest.\n",
        "\n",
        "This vector can also be expressed by a scalar and two angles, such that the scalar is the length of the vector and first angle is a rotation relative to the x axis in a anticlockwise direction, and the second angle is a rotation relaltive to the y-axis, so $V=(r,\\theta, \\gamma)$.\n",
        "(This is slightly different to cartesian spherical coordinates which typically measures the second angle down from the vertical).\n",
        "\n",
        "TODO: Its not ideal having the symbol $i$ for the axis as $i$ also specifically represents $\\sqrt{-1}$ as well as $i$ units of $\\sqrt{-1}$ in the way that $x$ and $y$ represent an unknown quantity and a specific direction.\n",
        "## 3D complex vector addition and subtraction\n",
        "This behaves as any other 3D vector in cartesian space. TODO: show this to be the case\n",
        "##3D complex vector multiplication\n",
        "As with 2D complex vector mulitplication, an approach is to take is to represent the vector in its lower dimensional components. That is to say that (one approach) to multiply a 2D complex vector is to express it as the sum of its components on the real and imaginary axis, eg $a + ib$ and then multiply. I will take a similar approach with 3D complex vectors.\n",
        "\n",
        "This means expressing the 3D vector in its next lowest dimensional component, ie 2D planes. Just as a point on a 2D plane is expressed as the sum of 2 1D components on perpendicular axis, a point in 3D space can expressed as the sum of 2 2D vectors in perpendicular planes.\n",
        "\n",
        "![component vectors of 3D vector](https://i.stack.imgur.com/NGYG2.png)\n",
        "\n",
        "The means of calculating these component vectors is explained [here](https://math.stackexchange.com/questions/3699218/component-vectors-from-a-3d-vector) but can be summarised as:\n",
        "\n",
        "for vector V $$ \n",
        "V= \\begin{pmatrix} ai \\\\ x \\\\ y \\end{pmatrix} = V_{ix} + V_{iy} = \\begin{pmatrix} a_1i \\\\ x \\\\ 0 \\end{pmatrix} + \\begin{pmatrix} a_2i \\\\ 0 \\\\ y \\end{pmatrix}\n",
        "$$\n",
        "where $V_{ix}$ is the 2d vector on the $ix$ plane, and $V_{iy}$ is the vector on the $iy$ plane\n",
        "$$\n",
        "a_1 = \\frac{x^2+a^2-y^2}{2a}\n",
        "$$\n",
        "$$\n",
        "a_2 = \\frac{y^2+a^2-x^2}{2a}\n",
        "$$\n",
        "\n",
        "Now that the components have been found, they can be multiplied separately and recombined to produce the resulting 3d vector.\n",
        "\n",
        "$$\n",
        "V^2 = V_{ix}^2 + V_{iy}^2\n",
        "$$\n",
        "\n",
        "  \n",
        "\n",
        "\n",
        "\n"
      ]
    },
    {
      "cell_type": "markdown",
      "metadata": {
        "id": "fObL5-TBRvpC",
        "colab_type": "text"
      },
      "source": [
        "Now that we have a way of manipulating 3D complex vectors, lets try plotting them to see what they look like."
      ]
    },
    {
      "cell_type": "code",
      "metadata": {
        "id": "Hnl7CWoPDvLG",
        "colab_type": "code",
        "colab": {
          "base_uri": "https://localhost:8080/",
          "height": 819
        },
        "outputId": "29c721d0-d349-4691-c18d-d1c0f0643760"
      },
      "source": [
        "pip install bqplot"
      ],
      "execution_count": 4,
      "outputs": [
        {
          "output_type": "stream",
          "text": [
            "Collecting bqplot\n",
            "\u001b[?25l  Downloading https://files.pythonhosted.org/packages/27/d6/66c8c2b1bee79a864b298eba2752743a074ac7178555bdb3e29d26e59da7/bqplot-0.12.14-py2.py3-none-any.whl (4.7MB)\n",
            "\u001b[K     |████████████████████████████████| 4.7MB 2.6MB/s \n",
            "\u001b[?25hRequirement already satisfied: traittypes>=0.0.6 in /usr/local/lib/python3.6/dist-packages (from bqplot) (0.2.1)\n",
            "Requirement already satisfied: ipywidgets>=7.5.0 in /usr/local/lib/python3.6/dist-packages (from bqplot) (7.5.1)\n",
            "Requirement already satisfied: pandas in /usr/local/lib/python3.6/dist-packages (from bqplot) (1.0.5)\n",
            "Requirement already satisfied: traitlets>=4.3.0 in /usr/local/lib/python3.6/dist-packages (from bqplot) (4.3.3)\n",
            "Requirement already satisfied: numpy>=1.10.4 in /usr/local/lib/python3.6/dist-packages (from bqplot) (1.18.5)\n",
            "Requirement already satisfied: ipython>=4.0.0; python_version >= \"3.3\" in /usr/local/lib/python3.6/dist-packages (from ipywidgets>=7.5.0->bqplot) (5.5.0)\n",
            "Requirement already satisfied: nbformat>=4.2.0 in /usr/local/lib/python3.6/dist-packages (from ipywidgets>=7.5.0->bqplot) (5.0.7)\n",
            "Requirement already satisfied: ipykernel>=4.5.1 in /usr/local/lib/python3.6/dist-packages (from ipywidgets>=7.5.0->bqplot) (4.10.1)\n",
            "Requirement already satisfied: widgetsnbextension~=3.5.0 in /usr/local/lib/python3.6/dist-packages (from ipywidgets>=7.5.0->bqplot) (3.5.1)\n",
            "Requirement already satisfied: python-dateutil>=2.6.1 in /usr/local/lib/python3.6/dist-packages (from pandas->bqplot) (2.8.1)\n",
            "Requirement already satisfied: pytz>=2017.2 in /usr/local/lib/python3.6/dist-packages (from pandas->bqplot) (2018.9)\n",
            "Requirement already satisfied: decorator in /usr/local/lib/python3.6/dist-packages (from traitlets>=4.3.0->bqplot) (4.4.2)\n",
            "Requirement already satisfied: ipython-genutils in /usr/local/lib/python3.6/dist-packages (from traitlets>=4.3.0->bqplot) (0.2.0)\n",
            "Requirement already satisfied: six in /usr/local/lib/python3.6/dist-packages (from traitlets>=4.3.0->bqplot) (1.12.0)\n",
            "Requirement already satisfied: pickleshare in /usr/local/lib/python3.6/dist-packages (from ipython>=4.0.0; python_version >= \"3.3\"->ipywidgets>=7.5.0->bqplot) (0.7.5)\n",
            "Requirement already satisfied: prompt-toolkit<2.0.0,>=1.0.4 in /usr/local/lib/python3.6/dist-packages (from ipython>=4.0.0; python_version >= \"3.3\"->ipywidgets>=7.5.0->bqplot) (1.0.18)\n",
            "Requirement already satisfied: pygments in /usr/local/lib/python3.6/dist-packages (from ipython>=4.0.0; python_version >= \"3.3\"->ipywidgets>=7.5.0->bqplot) (2.1.3)\n",
            "Requirement already satisfied: simplegeneric>0.8 in /usr/local/lib/python3.6/dist-packages (from ipython>=4.0.0; python_version >= \"3.3\"->ipywidgets>=7.5.0->bqplot) (0.8.1)\n",
            "Requirement already satisfied: pexpect; sys_platform != \"win32\" in /usr/local/lib/python3.6/dist-packages (from ipython>=4.0.0; python_version >= \"3.3\"->ipywidgets>=7.5.0->bqplot) (4.8.0)\n",
            "Requirement already satisfied: setuptools>=18.5 in /usr/local/lib/python3.6/dist-packages (from ipython>=4.0.0; python_version >= \"3.3\"->ipywidgets>=7.5.0->bqplot) (49.1.0)\n",
            "Requirement already satisfied: jupyter-core in /usr/local/lib/python3.6/dist-packages (from nbformat>=4.2.0->ipywidgets>=7.5.0->bqplot) (4.6.3)\n",
            "Requirement already satisfied: jsonschema!=2.5.0,>=2.4 in /usr/local/lib/python3.6/dist-packages (from nbformat>=4.2.0->ipywidgets>=7.5.0->bqplot) (2.6.0)\n",
            "Requirement already satisfied: tornado>=4.0 in /usr/local/lib/python3.6/dist-packages (from ipykernel>=4.5.1->ipywidgets>=7.5.0->bqplot) (4.5.3)\n",
            "Requirement already satisfied: jupyter-client in /usr/local/lib/python3.6/dist-packages (from ipykernel>=4.5.1->ipywidgets>=7.5.0->bqplot) (5.3.5)\n",
            "Requirement already satisfied: notebook>=4.4.1 in /usr/local/lib/python3.6/dist-packages (from widgetsnbextension~=3.5.0->ipywidgets>=7.5.0->bqplot) (5.2.2)\n",
            "Requirement already satisfied: wcwidth in /usr/local/lib/python3.6/dist-packages (from prompt-toolkit<2.0.0,>=1.0.4->ipython>=4.0.0; python_version >= \"3.3\"->ipywidgets>=7.5.0->bqplot) (0.2.5)\n",
            "Requirement already satisfied: ptyprocess>=0.5 in /usr/local/lib/python3.6/dist-packages (from pexpect; sys_platform != \"win32\"->ipython>=4.0.0; python_version >= \"3.3\"->ipywidgets>=7.5.0->bqplot) (0.6.0)\n",
            "Requirement already satisfied: pyzmq>=13 in /usr/local/lib/python3.6/dist-packages (from jupyter-client->ipykernel>=4.5.1->ipywidgets>=7.5.0->bqplot) (19.0.1)\n",
            "Requirement already satisfied: nbconvert in /usr/local/lib/python3.6/dist-packages (from notebook>=4.4.1->widgetsnbextension~=3.5.0->ipywidgets>=7.5.0->bqplot) (5.6.1)\n",
            "Requirement already satisfied: terminado>=0.3.3; sys_platform != \"win32\" in /usr/local/lib/python3.6/dist-packages (from notebook>=4.4.1->widgetsnbextension~=3.5.0->ipywidgets>=7.5.0->bqplot) (0.8.3)\n",
            "Requirement already satisfied: jinja2 in /usr/local/lib/python3.6/dist-packages (from notebook>=4.4.1->widgetsnbextension~=3.5.0->ipywidgets>=7.5.0->bqplot) (2.11.2)\n",
            "Requirement already satisfied: mistune<2,>=0.8.1 in /usr/local/lib/python3.6/dist-packages (from nbconvert->notebook>=4.4.1->widgetsnbextension~=3.5.0->ipywidgets>=7.5.0->bqplot) (0.8.4)\n",
            "Requirement already satisfied: pandocfilters>=1.4.1 in /usr/local/lib/python3.6/dist-packages (from nbconvert->notebook>=4.4.1->widgetsnbextension~=3.5.0->ipywidgets>=7.5.0->bqplot) (1.4.2)\n",
            "Requirement already satisfied: bleach in /usr/local/lib/python3.6/dist-packages (from nbconvert->notebook>=4.4.1->widgetsnbextension~=3.5.0->ipywidgets>=7.5.0->bqplot) (3.1.5)\n",
            "Requirement already satisfied: defusedxml in /usr/local/lib/python3.6/dist-packages (from nbconvert->notebook>=4.4.1->widgetsnbextension~=3.5.0->ipywidgets>=7.5.0->bqplot) (0.6.0)\n",
            "Requirement already satisfied: entrypoints>=0.2.2 in /usr/local/lib/python3.6/dist-packages (from nbconvert->notebook>=4.4.1->widgetsnbextension~=3.5.0->ipywidgets>=7.5.0->bqplot) (0.3)\n",
            "Requirement already satisfied: testpath in /usr/local/lib/python3.6/dist-packages (from nbconvert->notebook>=4.4.1->widgetsnbextension~=3.5.0->ipywidgets>=7.5.0->bqplot) (0.4.4)\n",
            "Requirement already satisfied: MarkupSafe>=0.23 in /usr/local/lib/python3.6/dist-packages (from jinja2->notebook>=4.4.1->widgetsnbextension~=3.5.0->ipywidgets>=7.5.0->bqplot) (1.1.1)\n",
            "Requirement already satisfied: webencodings in /usr/local/lib/python3.6/dist-packages (from bleach->nbconvert->notebook>=4.4.1->widgetsnbextension~=3.5.0->ipywidgets>=7.5.0->bqplot) (0.5.1)\n",
            "Requirement already satisfied: packaging in /usr/local/lib/python3.6/dist-packages (from bleach->nbconvert->notebook>=4.4.1->widgetsnbextension~=3.5.0->ipywidgets>=7.5.0->bqplot) (20.4)\n",
            "Requirement already satisfied: pyparsing>=2.0.2 in /usr/local/lib/python3.6/dist-packages (from packaging->bleach->nbconvert->notebook>=4.4.1->widgetsnbextension~=3.5.0->ipywidgets>=7.5.0->bqplot) (2.4.7)\n",
            "Installing collected packages: bqplot\n",
            "Successfully installed bqplot-0.12.14\n"
          ],
          "name": "stdout"
        }
      ]
    },
    {
      "cell_type": "code",
      "metadata": {
        "id": "5VwBNupLIboh",
        "colab_type": "code",
        "colab": {}
      },
      "source": [
        "#!/usr/bin/env python3\n",
        "# -*- coding: utf-8 -*-\n",
        "\"\"\"\n",
        "Created on Sun Jul  5 18:09:59 2020\n",
        "\n",
        "@author: tomwilliams\n",
        "\"\"\"\n",
        "import ipyvolume as ipv\n",
        "import math\n",
        "import cmath\n",
        "import bqplot.scales\n",
        "import matplotlib.cm\n",
        "import pandas as pd\n",
        "import numpy as np\n",
        "\n",
        "class complex3:\n",
        "    def __init__(self, x, y, z):\n",
        "        y1 = 0\n",
        "        y2 = 0\n",
        "        self.x = x\n",
        "        self.y = y\n",
        "        self.z = z\n",
        "        self.r = math.sqrt(x**2 + y**2 + z**2)\n",
        "        \n",
        "        \n",
        "        self.p = math.atan(z/self.r) if (self.r!=0) else 0\n",
        "        \n",
        "        if (x==0):\n",
        "            self.t = math.pi/2\n",
        "        else:\n",
        "            self.t = math.atan(y/x)\n",
        "        \n",
        "        \n",
        "        self.cartesian = [x,y,z]\n",
        "        self.spherical = [self.r,self.t,self.p]\n",
        "        \n",
        "        if (y!=0 and x!=0 and z==0):\n",
        "            y1 = y\n",
        "            y2 = 0\n",
        "            \n",
        "        elif (y!=0 and x==0 and z!=0):\n",
        "            y1 = 0\n",
        "            y2 = y\n",
        "        \n",
        "        elif (y!=0 and x==0 and z==0):\n",
        "            #this is a bit arbitary as could be attributed to either plane\n",
        "            y1 = y\n",
        "            y2 = 0\n",
        "        \n",
        "        elif (y==0):\n",
        "            y1 = 0\n",
        "            y2 = 0\n",
        "            \n",
        "        else:\n",
        "            y1 = (x**2+y**2-z**2)/(2*y)\n",
        "            y2 = (y**2+z**2-x**2)/(2*y)\n",
        "        \n",
        "        self.xy = complex(x,y1)\n",
        "        self.yz = complex(z,y2)\n",
        "        \n",
        "    def __str__(self):\n",
        "        return '[{0},{1},{2}] ({3},{4},{5})'.format(self.x, self.y, self.z, self.r, self.t, self.p)\n",
        "    \n",
        "    __repr__ = __str__\n",
        "    \n",
        "    def components(self):\n",
        "        return 'xy({0}) yz({1})'.format(self.xy, self.yz)\n",
        "        \n",
        "    def square(self):\n",
        "        xy2 = self.xy**2\n",
        "        yz2 = self.yz**2\n",
        "        \n",
        "        return complex3(xy2.real, xy2.imag+yz2.imag, yz2.real )\n",
        "\n",
        "    def sqrt(self):\n",
        "        xy2 = cmath.sqrt(self.xy)\n",
        "        yz2 = cmath.sqrt(self.yz)\n",
        "        \n",
        "        return complex3(xy2.real, xy2.imag+yz2.imag, yz2.real )\n",
        "\n"
      ],
      "execution_count": 5,
      "outputs": []
    },
    {
      "cell_type": "code",
      "metadata": {
        "id": "Dlg_ch-xEG8I",
        "colab_type": "code",
        "colab": {}
      },
      "source": [
        "x1s = []\n",
        "y1s = []\n",
        "z1s = []\n",
        "c1s = []\n",
        "\n",
        "x2s = []\n",
        "y2s = []\n",
        "z2s = []\n",
        "\n",
        "data1 = []\n",
        "\n",
        "bbox=10\n",
        "for x in range(-bbox,bbox):\n",
        "    for y in range(-bbox,bbox):\n",
        "        for z in range(-bbox,bbox):\n",
        "            c = complex3(x,y,z)\n",
        "            c1 = c.square()\n",
        "            c2 = c.sqrt()\n",
        "            \n",
        "            x1s.append(c1.x)\n",
        "            y1s.append(c1.y)\n",
        "            z1s.append(c1.z)\n",
        "            \n",
        "            x2s.append(c2.x)\n",
        "            y2s.append(c2.y)\n",
        "            z2s.append(c2.z)\n",
        "            \n",
        "            data1.append([c1.x,c1.y,c1.z])\n",
        "\n",
        "            \n",
        "x1s = np.array(x1s)\n",
        "y1s = np.array(y1s)\n",
        "z1s = np.array(z1s)\n",
        "c1s = np.array(c1s) \n",
        "\n",
        "x2s = np.array(x2s)\n",
        "y2s = np.array(y2s)\n",
        "z2s = np.array(z2s)\n",
        "\n"
      ],
      "execution_count": 6,
      "outputs": []
    },
    {
      "cell_type": "code",
      "metadata": {
        "id": "1GqYs27eEL4o",
        "colab_type": "code",
        "colab": {
          "base_uri": "https://localhost:8080/",
          "height": 17,
          "referenced_widgets": [
            "0f594398883146eab49e656acae1ff17",
            "c1df678af3d144599582ce8e5cdcd0cf",
            "b3d27d4dd2a047b8bb70b172340dad02"
          ]
        },
        "outputId": "6f9a4b47-8abc-4302-8b3c-16dfa0f3a03f"
      },
      "source": [
        "fig = ipv.figure()\n",
        "ipv.clear()\n",
        "\n",
        "#colors\n",
        "colormap = matplotlib.cm.viridis\n",
        "c = colormap(np.linspace(0, 1, len(x2s)))\n",
        "\n",
        "scatter = ipv.scatter(x1s,y1s,z1s, size=2, marker=\"sphere\", color=c)\n",
        "#scatter = ipv.plot(xs, ys, zs, size=2, marker=\"sphere\", color=zs)\n",
        "ipv.show()"
      ],
      "execution_count": 8,
      "outputs": [
        {
          "output_type": "display_data",
          "data": {
            "application/vnd.jupyter.widget-view+json": {
              "model_id": "0f594398883146eab49e656acae1ff17",
              "version_minor": 0,
              "version_major": 2
            },
            "text/plain": [
              "VBox(children=(Figure(camera=PerspectiveCamera(fov=46.0, position=(0.0, 0.0, 2.0), quaternion=(0.0, 0.0, 0.0, …"
            ]
          },
          "metadata": {
            "tags": []
          }
        }
      ]
    },
    {
      "cell_type": "markdown",
      "metadata": {
        "id": "FmSVNw8FpssQ",
        "colab_type": "text"
      },
      "source": [
        ""
      ]
    }
  ]
}